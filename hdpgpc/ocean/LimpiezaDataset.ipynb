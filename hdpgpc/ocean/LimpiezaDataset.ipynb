{
 "cells": [
  {
   "cell_type": "code",
   "execution_count": 9,
   "id": "595041c3",
   "metadata": {
    "scrolled": true
   },
   "outputs": [],
   "source": [
    "import numpy as np\n",
    "import pandas as pd\n",
    "import matplotlib.pyplot as plt"
   ]
  },
  {
   "cell_type": "code",
   "execution_count": 6,
   "id": "0e82ac8f",
   "metadata": {},
   "outputs": [
    {
     "name": "stdout",
     "output_type": "stream",
     "text": [
      "Dimensiones: (14376, 472)\n"
     ]
    },
    {
     "data": {
      "text/html": [
       "<div>\n",
       "<style scoped>\n",
       "    .dataframe tbody tr th:only-of-type {\n",
       "        vertical-align: middle;\n",
       "    }\n",
       "\n",
       "    .dataframe tbody tr th {\n",
       "        vertical-align: top;\n",
       "    }\n",
       "\n",
       "    .dataframe thead th {\n",
       "        text-align: right;\n",
       "    }\n",
       "</style>\n",
       "<table border=\"1\" class=\"dataframe\">\n",
       "  <thead>\n",
       "    <tr style=\"text-align: right;\">\n",
       "      <th></th>\n",
       "      <th>0</th>\n",
       "      <th>1</th>\n",
       "      <th>2</th>\n",
       "      <th>3</th>\n",
       "      <th>4</th>\n",
       "      <th>5</th>\n",
       "      <th>6</th>\n",
       "      <th>7</th>\n",
       "      <th>8</th>\n",
       "      <th>9</th>\n",
       "      <th>...</th>\n",
       "      <th>462</th>\n",
       "      <th>463</th>\n",
       "      <th>464</th>\n",
       "      <th>465</th>\n",
       "      <th>466</th>\n",
       "      <th>467</th>\n",
       "      <th>468</th>\n",
       "      <th>469</th>\n",
       "      <th>470</th>\n",
       "      <th>471</th>\n",
       "    </tr>\n",
       "  </thead>\n",
       "  <tbody>\n",
       "    <tr>\n",
       "      <th>0</th>\n",
       "      <td>0.000039</td>\n",
       "      <td>0.000040</td>\n",
       "      <td>0.000012</td>\n",
       "      <td>0.000031</td>\n",
       "      <td>0.000012</td>\n",
       "      <td>0.000022</td>\n",
       "      <td>0.000043</td>\n",
       "      <td>0.000056</td>\n",
       "      <td>0.000003</td>\n",
       "      <td>0.000011</td>\n",
       "      <td>...</td>\n",
       "      <td>0.000015</td>\n",
       "      <td>0.000015</td>\n",
       "      <td>0.000015</td>\n",
       "      <td>0.000014</td>\n",
       "      <td>0.000014</td>\n",
       "      <td>0.000014</td>\n",
       "      <td>0.000014</td>\n",
       "      <td>0.000014</td>\n",
       "      <td>0.000014</td>\n",
       "      <td>0.000014</td>\n",
       "    </tr>\n",
       "    <tr>\n",
       "      <th>1</th>\n",
       "      <td>0.000010</td>\n",
       "      <td>0.000007</td>\n",
       "      <td>0.000076</td>\n",
       "      <td>0.000009</td>\n",
       "      <td>0.000006</td>\n",
       "      <td>0.000012</td>\n",
       "      <td>0.000024</td>\n",
       "      <td>0.000013</td>\n",
       "      <td>0.000009</td>\n",
       "      <td>0.000022</td>\n",
       "      <td>...</td>\n",
       "      <td>0.000025</td>\n",
       "      <td>0.000025</td>\n",
       "      <td>0.000025</td>\n",
       "      <td>0.000025</td>\n",
       "      <td>0.000024</td>\n",
       "      <td>0.000024</td>\n",
       "      <td>0.000024</td>\n",
       "      <td>0.000024</td>\n",
       "      <td>0.000024</td>\n",
       "      <td>0.000023</td>\n",
       "    </tr>\n",
       "    <tr>\n",
       "      <th>2</th>\n",
       "      <td>0.000028</td>\n",
       "      <td>0.000009</td>\n",
       "      <td>0.000030</td>\n",
       "      <td>0.000044</td>\n",
       "      <td>0.000065</td>\n",
       "      <td>0.000019</td>\n",
       "      <td>0.000013</td>\n",
       "      <td>0.000122</td>\n",
       "      <td>0.000047</td>\n",
       "      <td>0.000057</td>\n",
       "      <td>...</td>\n",
       "      <td>0.000025</td>\n",
       "      <td>0.000025</td>\n",
       "      <td>0.000025</td>\n",
       "      <td>0.000025</td>\n",
       "      <td>0.000024</td>\n",
       "      <td>0.000024</td>\n",
       "      <td>0.000024</td>\n",
       "      <td>0.000024</td>\n",
       "      <td>0.000024</td>\n",
       "      <td>0.000024</td>\n",
       "    </tr>\n",
       "    <tr>\n",
       "      <th>3</th>\n",
       "      <td>0.000008</td>\n",
       "      <td>0.000060</td>\n",
       "      <td>0.000008</td>\n",
       "      <td>0.000045</td>\n",
       "      <td>0.000001</td>\n",
       "      <td>0.000006</td>\n",
       "      <td>0.000008</td>\n",
       "      <td>0.000029</td>\n",
       "      <td>0.000039</td>\n",
       "      <td>0.000011</td>\n",
       "      <td>...</td>\n",
       "      <td>0.000057</td>\n",
       "      <td>0.000057</td>\n",
       "      <td>0.000056</td>\n",
       "      <td>0.000056</td>\n",
       "      <td>0.000055</td>\n",
       "      <td>0.000055</td>\n",
       "      <td>0.000054</td>\n",
       "      <td>0.000054</td>\n",
       "      <td>0.000054</td>\n",
       "      <td>0.000053</td>\n",
       "    </tr>\n",
       "    <tr>\n",
       "      <th>4</th>\n",
       "      <td>0.000012</td>\n",
       "      <td>0.000004</td>\n",
       "      <td>0.000019</td>\n",
       "      <td>0.000010</td>\n",
       "      <td>0.000057</td>\n",
       "      <td>0.000000</td>\n",
       "      <td>0.000020</td>\n",
       "      <td>0.000035</td>\n",
       "      <td>0.000017</td>\n",
       "      <td>0.000011</td>\n",
       "      <td>...</td>\n",
       "      <td>0.000013</td>\n",
       "      <td>0.000013</td>\n",
       "      <td>0.000013</td>\n",
       "      <td>0.000013</td>\n",
       "      <td>0.000013</td>\n",
       "      <td>0.000013</td>\n",
       "      <td>0.000013</td>\n",
       "      <td>0.000013</td>\n",
       "      <td>0.000013</td>\n",
       "      <td>0.000012</td>\n",
       "    </tr>\n",
       "  </tbody>\n",
       "</table>\n",
       "<p>5 rows × 472 columns</p>\n",
       "</div>"
      ],
      "text/plain": [
       "        0         1         2         3         4         5         6    \\\n",
       "0  0.000039  0.000040  0.000012  0.000031  0.000012  0.000022  0.000043   \n",
       "1  0.000010  0.000007  0.000076  0.000009  0.000006  0.000012  0.000024   \n",
       "2  0.000028  0.000009  0.000030  0.000044  0.000065  0.000019  0.000013   \n",
       "3  0.000008  0.000060  0.000008  0.000045  0.000001  0.000006  0.000008   \n",
       "4  0.000012  0.000004  0.000019  0.000010  0.000057  0.000000  0.000020   \n",
       "\n",
       "        7         8         9    ...       462       463       464       465  \\\n",
       "0  0.000056  0.000003  0.000011  ...  0.000015  0.000015  0.000015  0.000014   \n",
       "1  0.000013  0.000009  0.000022  ...  0.000025  0.000025  0.000025  0.000025   \n",
       "2  0.000122  0.000047  0.000057  ...  0.000025  0.000025  0.000025  0.000025   \n",
       "3  0.000029  0.000039  0.000011  ...  0.000057  0.000057  0.000056  0.000056   \n",
       "4  0.000035  0.000017  0.000011  ...  0.000013  0.000013  0.000013  0.000013   \n",
       "\n",
       "        466       467       468       469       470       471  \n",
       "0  0.000014  0.000014  0.000014  0.000014  0.000014  0.000014  \n",
       "1  0.000024  0.000024  0.000024  0.000024  0.000024  0.000023  \n",
       "2  0.000024  0.000024  0.000024  0.000024  0.000024  0.000024  \n",
       "3  0.000055  0.000055  0.000054  0.000054  0.000054  0.000053  \n",
       "4  0.000013  0.000013  0.000013  0.000013  0.000013  0.000012  \n",
       "\n",
       "[5 rows x 472 columns]"
      ]
     },
     "metadata": {},
     "output_type": "display_data"
    }
   ],
   "source": [
    "import pandas as pd\n",
    "\n",
    "# Cargar el archivo como un DataFrame\n",
    "data = pd.read_csv(\"data/Hornsund_VES3.txt\", header=None)\n",
    "\n",
    "# Verificar las dimensiones del DataFrame\n",
    "print(\"Dimensiones:\", data.shape)\n",
    "\n",
    "display(data.head())"
   ]
  },
  {
   "cell_type": "code",
   "execution_count": 8,
   "id": "b8d900a7",
   "metadata": {
    "scrolled": true
   },
   "outputs": [
    {
     "name": "stdout",
     "output_type": "stream",
     "text": [
      "Frecuencias: [0.040039   0.04101556 0.04199212 0.04296869 0.04394525 0.04492181\n",
      " 0.04589837 0.04687494 0.0478515  0.04882806 0.04980462 0.05078119\n",
      " 0.05175775 0.05273431 0.05371087 0.05468744 0.055664   0.05664056\n",
      " 0.05761712 0.05859369 0.05957025 0.06054681 0.06152337 0.06249994\n",
      " 0.0634765  0.06445306 0.06542962 0.06640619 0.06738275 0.06835931\n",
      " 0.06933587 0.07031244 0.071289   0.07226556 0.07324212 0.07421869\n",
      " 0.07519525 0.07617181 0.07714837 0.07812494 0.0791015  0.08007806\n",
      " 0.08105462 0.08203119 0.08300775 0.08398431 0.08496087 0.08593744\n",
      " 0.086914   0.08789056 0.08886712 0.08984369 0.09082025 0.09179681\n",
      " 0.09277337 0.09374994 0.0947265  0.09570306 0.09667962 0.09765619\n",
      " 0.09863275 0.09960931 0.10058587 0.10156244 0.102539   0.10351556\n",
      " 0.10449212 0.10546869 0.10644525 0.10742181 0.10839837 0.10937494\n",
      " 0.1103515  0.11132806 0.11230462 0.11328119 0.11425775 0.11523431\n",
      " 0.11621087 0.11718744 0.118164   0.11914056 0.12011712 0.12109369\n",
      " 0.12207025 0.12304681 0.12402337 0.12499994 0.1259765  0.12695306\n",
      " 0.12792962 0.12890619 0.12988275 0.13085931 0.13183587 0.13281244\n",
      " 0.133789   0.13476556 0.13574212 0.13671869 0.13769525 0.13867181\n",
      " 0.13964837 0.14062494 0.1416015  0.14257806 0.14355462 0.14453119\n",
      " 0.14550775 0.14648431 0.14746087 0.14843744 0.149414   0.15039056\n",
      " 0.15136712 0.15234369 0.15332025 0.15429681 0.15527337 0.15624994\n",
      " 0.1572265  0.15820306 0.15917962 0.16015619 0.16113275 0.16210931\n",
      " 0.16308587 0.16406244 0.165039   0.16601556 0.16699212 0.16796869\n",
      " 0.16894525 0.16992181 0.17089837 0.17187494 0.1728515  0.17382806\n",
      " 0.17480462 0.17578119 0.17675775 0.17773431 0.17871087 0.17968744\n",
      " 0.180664   0.18164056 0.18261712 0.18359369 0.18457025 0.18554681\n",
      " 0.18652337 0.18749994 0.1884765  0.18945306 0.19042962 0.19140619\n",
      " 0.19238275 0.19335931 0.19433587 0.19531244 0.196289   0.19726556\n",
      " 0.19824212 0.19921869 0.20019525 0.20117181 0.20214837 0.20312494\n",
      " 0.2041015  0.20507806 0.20605462 0.20703119 0.20800775 0.20898431\n",
      " 0.20996087 0.21093744 0.211914   0.21289056 0.21386712 0.21484369\n",
      " 0.21582025 0.21679681 0.21777337 0.21874994 0.2197265  0.22070306\n",
      " 0.22167962 0.22265619 0.22363275 0.22460931 0.22558587 0.22656244\n",
      " 0.227539   0.22851556 0.22949212 0.23046869 0.23144525 0.23242181\n",
      " 0.23339837 0.23437494 0.2353515  0.23632806 0.23730462 0.23828119\n",
      " 0.23925775 0.24023431 0.24121087 0.24218744 0.243164   0.24414056\n",
      " 0.24511712 0.24609369 0.24707025 0.24804681 0.24902337 0.24999994\n",
      " 0.2509765  0.25195306 0.25292962 0.25390619 0.25488275 0.25585931\n",
      " 0.25683587 0.25781244 0.258789   0.25976556 0.26074212 0.26171869\n",
      " 0.26269525 0.26367181 0.26464837 0.26562494 0.2666015  0.26757806\n",
      " 0.26855462 0.26953119 0.27050775 0.27148431 0.27246087 0.27343744\n",
      " 0.274414   0.27539056 0.27636712 0.27734369 0.27832025 0.27929681\n",
      " 0.28027337 0.28124994 0.2822265  0.28320306 0.28417962 0.28515619\n",
      " 0.28613275 0.28710931 0.28808587 0.28906244 0.290039   0.29101556\n",
      " 0.29199212 0.29296869 0.29394525 0.29492181 0.29589837 0.29687494\n",
      " 0.2978515  0.29882806 0.29980462 0.30078119 0.30175775 0.30273431\n",
      " 0.30371087 0.30468744 0.305664   0.30664056 0.30761712 0.30859369\n",
      " 0.30957025 0.31054681 0.31152337 0.31249994 0.3134765  0.31445306\n",
      " 0.31542962 0.31640619 0.31738275 0.31835931 0.31933587 0.32031244\n",
      " 0.321289   0.32226556 0.32324212 0.32421869 0.32519525 0.32617181\n",
      " 0.32714837 0.32812494 0.3291015  0.33007806 0.33105462 0.33203119\n",
      " 0.33300775 0.33398431 0.33496087 0.33593744 0.336914   0.33789056\n",
      " 0.33886712 0.33984369 0.34082025 0.34179681 0.34277337 0.34374994\n",
      " 0.3447265  0.34570306 0.34667962 0.34765619 0.34863275 0.34960931\n",
      " 0.35058587 0.35156244 0.352539   0.35351556 0.35449212 0.35546869\n",
      " 0.35644525 0.35742181 0.35839837 0.35937494 0.3603515  0.36132806\n",
      " 0.36230462 0.36328119 0.36425775 0.36523431 0.36621087 0.36718744\n",
      " 0.368164   0.36914056 0.37011712 0.37109369 0.37207025 0.37304681\n",
      " 0.37402337 0.37499994 0.3759765  0.37695306 0.37792962 0.37890619\n",
      " 0.37988275 0.38085931 0.38183587 0.38281244 0.383789   0.38476556\n",
      " 0.38574212 0.38671869 0.38769525 0.38867181 0.38964837 0.39062494\n",
      " 0.3916015  0.39257806 0.39355462 0.39453119 0.39550775 0.39648431\n",
      " 0.39746087 0.39843744 0.399414   0.40039056 0.40136712 0.40234369\n",
      " 0.40332025 0.40429681 0.40527337 0.40624994 0.4072265  0.40820306\n",
      " 0.40917962 0.41015619 0.41113275 0.41210931 0.41308587 0.41406244\n",
      " 0.415039   0.41601556 0.41699212 0.41796869 0.41894525 0.41992181\n",
      " 0.42089837 0.42187494 0.4228515  0.42382806 0.42480462 0.42578119\n",
      " 0.42675775 0.42773431 0.42871087 0.42968744 0.430664   0.43164056\n",
      " 0.43261712 0.43359369 0.43457025 0.43554681 0.43652337 0.43749994\n",
      " 0.4384765  0.43945306 0.44042962 0.44140619 0.44238275 0.44335931\n",
      " 0.44433587 0.44531244 0.446289   0.44726556 0.44824212 0.44921869\n",
      " 0.45019525 0.45117181 0.45214837 0.45312494 0.4541015  0.45507806\n",
      " 0.45605462 0.45703119 0.45800775 0.45898431 0.45996087 0.46093744\n",
      " 0.461914   0.46289056 0.46386712 0.46484369 0.46582025 0.46679681\n",
      " 0.46777337 0.46874994 0.4697265  0.47070306 0.47167962 0.47265619\n",
      " 0.47363275 0.47460931 0.47558587 0.47656244 0.477539   0.47851556\n",
      " 0.47949212 0.48046869 0.48144525 0.48242181 0.48339837 0.48437494\n",
      " 0.4853515  0.48632806 0.48730462 0.48828119 0.48925775 0.49023431\n",
      " 0.49121087 0.49218744 0.493164   0.49414056 0.49511712 0.49609369\n",
      " 0.49707025 0.49804681 0.49902337 0.49999994]\n",
      "Número de frecuencias: 472\n"
     ]
    }
   ],
   "source": [
    "import numpy as np\n",
    "\n",
    "# Generar las frecuencias de 0.040039 a 0.5 Hz con intervalos de 1/1024 Hz\n",
    "frequencies = np.arange(0.040039, 0.5, 1/1024)\n",
    "\n",
    "print(\"Frecuencias:\", frequencies)\n",
    "print(\"Número de frecuencias:\", len(frequencies))  # Debería ser 472"
   ]
  },
  {
   "cell_type": "code",
   "execution_count": 12,
   "id": "2dc9daee",
   "metadata": {},
   "outputs": [
    {
     "data": {
      "text/plain": [
       "[<matplotlib.lines.Line2D at 0x1ec21b8b990>]"
      ]
     },
     "execution_count": 12,
     "metadata": {},
     "output_type": "execute_result"
    },
    {
     "data": {
      "image/png": "[encoded data removed]",
      "text/plain": [
       "<Figure size 640x480 with 1 Axes>"
      ]
     },
     "metadata": {},
     "output_type": "display_data"
    }
   ],
   "source": [
    "em = data.iloc[0]\n",
    "plt.plot(frequencies, em)"
   ]
  },
  {
   "cell_type": "code",
   "execution_count": 42,
   "id": "e368a993",
   "metadata": {},
   "outputs": [],
   "source": [
    "def block_average(row, block_size=3):\n",
    "    return np.mean(row.values[:len(row)//block_size*block_size].reshape(-1, block_size), axis=1)\n",
    "\n",
    "def block_average_freq(freq, block_size=3):\n",
    "    return np.mean(freq[:len(freq)//block_size*block_size].reshape(-1, block_size), axis=1)"
   ]
  },
  {
   "cell_type": "code",
   "execution_count": 28,
   "id": "a3317e27",
   "metadata": {},
   "outputs": [],
   "source": [
    "copia = data.copy()"
   ]
  },
  {
   "cell_type": "code",
   "execution_count": 39,
   "id": "2cf07515",
   "metadata": {},
   "outputs": [],
   "source": [
    "three_point_block = copia.apply(block_average, block_size=3, axis=1)\n",
    "three_point_block = pd.DataFrame(three_point_block.tolist())"
   ]
  },
  {
   "cell_type": "code",
   "execution_count": 44,
   "id": "27e1e188",
   "metadata": {},
   "outputs": [
    {
     "data": {
      "text/plain": [
       "[<matplotlib.lines.Line2D at 0x1ec22568090>]"
      ]
     },
     "execution_count": 44,
     "metadata": {},
     "output_type": "execute_result"
    },
    {
     "data": {
      "image/png": "[encoded data removed]",
      "text/plain": [
       "<Figure size 640x480 with 1 Axes>"
      ]
     },
     "metadata": {},
     "output_type": "display_data"
    }
   ],
   "source": [
    "new_frequencies = block_average_freq(frequencies, block_size=3)\n",
    "em = three_point_block.iloc[0]\n",
    "plt.plot(new_frequencies, em)"
   ]
  },
  {
   "cell_type": "code",
   "execution_count": null,
   "id": "119c2055",
   "metadata": {},
   "outputs": [],
   "source": []
  }
 ],
 "metadata": {
  "kernelspec": {
   "display_name": "Python 3 (ipykernel)",
   "language": "python",
   "name": "python3"
  },
  "language_info": {
   "codemirror_mode": {
    "name": "ipython",
    "version": 3
   },
   "file_extension": ".py",
   "mimetype": "text/x-python",
   "name": "python",
   "nbconvert_exporter": "python",
   "pygments_lexer": "ipython3",
   "version": "3.11.0"
  }
 },
 "nbformat": 4,
 "nbformat_minor": 5
}
