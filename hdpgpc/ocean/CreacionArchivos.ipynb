{
 "cells": [
  {
   "cell_type": "code",
   "id": "a3c282d8",
   "metadata": {
    "ExecuteTime": {
     "end_time": "2025-01-30T11:15:00.992887Z",
     "start_time": "2025-01-30T11:15:00.731294Z"
    }
   },
   "source": [
    "import numpy as np\n",
    "import pandas as pd\n",
    "import os\n",
    "import math\n",
    "from scipy.fft import fft\n",
    "from tqdm import tqdm"
   ],
   "outputs": [],
   "execution_count": 1
  },
  {
   "cell_type": "markdown",
   "id": "fddff5b6",
   "metadata": {},
   "source": [
    "### Creación de los archivos de energía espectral con 512 valores"
   ]
  },
  {
   "cell_type": "code",
   "id": "82467367",
   "metadata": {
    "ExecuteTime": {
     "end_time": "2025-01-30T11:15:02.418495Z",
     "start_time": "2025-01-30T11:15:02.412441Z"
    }
   },
   "source": [
    "# lat: latitud de la localización en la que se registraton los datos\n",
    "# dirData es la ruta al directorio en el que está los datos\n",
    "# file: nombre del archivo de datos a procesar\n",
    "# startTime: fecha de comienzo de las medidas -> 'yyyy-mm-dd hh:mm:ss'\n",
    "\n",
    "def crear_espectro(lat, dirData, file, startTime):\n",
    "\n",
    "    # SET PARAMETERS\n",
    "    lat = lat # latitude (degrees)\n",
    "    Fs = 1 # sampling frequency (Hz)\n",
    "    T = 1/Fs # sampling period (s)\n",
    "    L = 1024 # number of samples in a single burst = time vector length\n",
    "    t = L*T # burst length (s)\n",
    "\n",
    "    os.chdir(dirData)\n",
    "    data = pd.read_csv(file, header = None) \n",
    "    data.columns = ['Time', 'Burst', 'Pressure']\n",
    "    data['Time'] = pd.to_datetime(data['Time'])\n",
    "\n",
    "    StartTime = pd.to_datetime(startTime)\n",
    "    AirPressureFile = 'airpressure.txt' # change accordingly\n",
    "    AirPressureSeries = pd.read_csv(AirPressureFile, header = None)\n",
    "\n",
    "    # PREPARE TABLES TO SAVE OUTPUTS\n",
    "    spectra = pd.DataFrame(index = range(data['Burst'].max()), columns = range(1,int(L/2)+1)) #From 1 to exclude DC\n",
    "    spectraName = file[:-4] + '_spectra.txt'\n",
    "\n",
    "    # PROCESS DATA ON THE BURST-BY-BURST BASIS\n",
    "    for n in tqdm(range(min(data['Burst']), max(data['Burst']) + 1), desc=\"Procesando Bursts\"):\n",
    "        df = data[data['Burst'] == n]\n",
    "        df = df.reset_index(drop = True)\n",
    "        df_time = df.Time[0]\n",
    "        TimeDifference = df.Time[0] - StartTime\n",
    "        TimeDifference = int(TimeDifference.total_seconds()/3600) # (h)\n",
    "        AirPressure = AirPressureSeries.loc[TimeDifference, 0]\n",
    "\n",
    "        # CALCULATE SEA PRESSURE\n",
    "        df['SeaPressure'] = pd.Series(np.zeros(df.shape[0] + 1))\n",
    "        df['SeaPressure'] = df['Pressure'] - (AirPressure/100) # mbar2dbar\n",
    "\n",
    "        # CALCULATE DEPTH FROM PRESSURE \n",
    "        # UNESCO formula (Fofonoff & Millard, 1983) under the assumption of \n",
    "        # constant water temperature 0 C and salinity 35 PSU\n",
    "        x = math.sin(lat/57.29578)**2\n",
    "        g = 9.780318*(\n",
    "            1+(5.2788*10**-3+2.36*10**-5*x)\n",
    "            *x)+1.092*10**-6*df['SeaPressure'] # acceleration due to gravity (m/s2)\n",
    "        df['Depth'] = pd.Series(np.zeros(df.shape[0] + 1))\n",
    "        df['Depth'] = ((((\n",
    "            -1.82*10**-15*df['SeaPressure']+2.279*10**-10)\n",
    "            *df['SeaPressure']-2.2512*10**-5)\n",
    "            *df['SeaPressure']+9.72659)\n",
    "            *df['SeaPressure'])/g # (m)\n",
    "\n",
    "        # REMOVE THE SLOWLY-VARYING COMPONENT OF WATER DEPTH\n",
    "        # (effect of e.g. sea level rise, tides and storm surges)\n",
    "        # Subtract a fitted 2nd order polynomial trend from each burst\n",
    "        time = range(L) # time vector [0:1:1023]\n",
    "        tides = np.polyfit(time, df['Depth'], 2)\n",
    "        S1 = df['Depth'] - np.polyval(tides, time) # depth variability associated with wind waves (m)\n",
    "\n",
    "        # CALCULATE WAVE SPECTRA\n",
    "        S1 = S1.to_numpy()\n",
    "        Y = fft(S1) # Fast Fourier Transform\n",
    "        P2 = abs(Y)\n",
    "        #Include DC Component\n",
    "        # P1 = P2[:int(L/2+1)]**2/(Fs*L)\n",
    "        # P1[1:-1] = 2*P1[1:-1] # energy density spectrum at depth (m2 s)\n",
    "        # f = np.r_[:int(L/2+1)]*Fs/L # frequency vector [0:d_f:0.5]\n",
    "        # d_f = f[1] - f[0] # frequency interval\n",
    "        #Exclude DC Component\n",
    "        P1 = P2[1:int(L/2+1)]**2 / (Fs * L)\n",
    "        P1[1:-1] = 2*P1[1:-1] # energy density spectrum at depth (m2 s)\n",
    "        f = np.r_[1:int(L/2+1)]*Fs/L # frequency vector [0:d_f:0.5]\n",
    "        d_f = f[1] - f[0] # frequency interval\n",
    "\n",
    "        # APPLY DEPTH CORRECTION\n",
    "        h = df['Depth'].mean() # mean depth (m)\n",
    "        z = df['Depth'].mean() # logger depth (m)\n",
    "        g = 9.780318*(\n",
    "            1+(5.2788*10**-3+2.36*10**-5*x)\n",
    "            *x)+1.092*10**-6 # acceleration due to gravity (m/s2)\n",
    "        k = np.linspace(0,1000,100001) # basic wavenumber values [0:0.01:1000] (1/m)\n",
    "        fA = (g*k*np.tanh(k*h))**0.5/(2*math.pi) # corresponding basic wave frequencies (Hz)\n",
    "        A = np.cosh(k*(h-z))/np.cosh(k*h) # set of correction factors\n",
    "        Af = np.interp(f, fA, A) # correction factor interpolated to the burst frequencies\n",
    "        Ag = 0.001 # attenuation cut-off value\n",
    "        Af[Af<Ag] = np.nan\n",
    "        P1_A = P1/Af # energy density spectrum at the sea surface (m2 s)\n",
    "        #\n",
    "        # # ADD A HIGH FREQUENCY TAIL\n",
    "        # # E(f)~f^(-4) after Kaihatu et al., 2007\n",
    "        lastval = (np.isnan(P1_A)).argmax()-1 # highest frequency for which Af>Ag\n",
    "        pom1 = sum(P1_A[lastval-9:lastval+1]*f[lastval-9:lastval+1]**-4)\n",
    "        pom2 = sum(f[lastval-9:lastval+1]**-8)\n",
    "        Amp = pom1/pom2\n",
    "        P1_A[lastval+1:] = Amp*f[lastval+1:]**-4\n",
    "        #\n",
    "        # # SAVE OUTPUTS\n",
    "        #spectra.loc[n-1,:] = P1_A.round(6)\n",
    "        spectra.loc[n-1,:] = P1_A.round(6)\n",
    "\n",
    "    spectra.to_csv(spectraName, index = False)"
   ],
   "outputs": [],
   "execution_count": 2
  },
  {
   "cell_type": "code",
   "id": "cc4b6cb7",
   "metadata": {
    "ExecuteTime": {
     "end_time": "2025-01-30T11:42:58.672142Z",
     "start_time": "2025-01-30T11:25:32.389341Z"
    }
   },
   "source": "crear_espectro(lat = 76.9952, dirData='/home/adrian.perez/Documents/OceanWave/HDP-GPC/hdpgpc/data/ocean/', file='VES3.txt', startTime = '2019-06-25 00:00:00')",
   "outputs": [
    {
     "name": "stderr",
     "output_type": "stream",
     "text": [
      "Procesando Bursts:   0%|          | 0/14376 [00:00<?, ?it/s]/tmp/ipykernel_2531943/1108223764.py:85: RuntimeWarning: overflow encountered in cosh\n",
      "  A = np.cosh(k*(h-z))/np.cosh(k*h) # set of correction factors\n",
      "Procesando Bursts:   0%|          | 1/14376 [17:10<4115:15:43, 1030.60s/it]\n"
     ]
    },
    {
     "ename": "KeyboardInterrupt",
     "evalue": "",
     "output_type": "error",
     "traceback": [
      "\u001B[0;31m---------------------------------------------------------------------------\u001B[0m",
      "\u001B[0;31mKeyboardInterrupt\u001B[0m                         Traceback (most recent call last)",
      "Cell \u001B[0;32mIn[9], line 1\u001B[0m\n\u001B[0;32m----> 1\u001B[0m \u001B[43mcrear_espectro\u001B[49m\u001B[43m(\u001B[49m\u001B[43mlat\u001B[49m\u001B[43m \u001B[49m\u001B[38;5;241;43m=\u001B[39;49m\u001B[43m \u001B[49m\u001B[38;5;241;43m76.9952\u001B[39;49m\u001B[43m,\u001B[49m\u001B[43m \u001B[49m\u001B[43mdirData\u001B[49m\u001B[38;5;241;43m=\u001B[39;49m\u001B[38;5;124;43m'\u001B[39;49m\u001B[38;5;124;43m/home/adrian.perez/Documents/OceanWave/HDP-GPC/hdpgpc/data/ocean/\u001B[39;49m\u001B[38;5;124;43m'\u001B[39;49m\u001B[43m,\u001B[49m\u001B[43m \u001B[49m\u001B[43mfile\u001B[49m\u001B[38;5;241;43m=\u001B[39;49m\u001B[38;5;124;43m'\u001B[39;49m\u001B[38;5;124;43mVES3.txt\u001B[39;49m\u001B[38;5;124;43m'\u001B[39;49m\u001B[43m,\u001B[49m\u001B[43m \u001B[49m\u001B[43mstartTime\u001B[49m\u001B[43m \u001B[49m\u001B[38;5;241;43m=\u001B[39;49m\u001B[43m \u001B[49m\u001B[38;5;124;43m'\u001B[39;49m\u001B[38;5;124;43m2019-06-25 00:00:00\u001B[39;49m\u001B[38;5;124;43m'\u001B[39;49m\u001B[43m)\u001B[49m\n",
      "Cell \u001B[0;32mIn[2], line 52\u001B[0m, in \u001B[0;36mcrear_espectro\u001B[0;34m(lat, dirData, file, startTime)\u001B[0m\n\u001B[1;32m     45\u001B[0m g \u001B[38;5;241m=\u001B[39m \u001B[38;5;241m9.780318\u001B[39m\u001B[38;5;241m*\u001B[39m(\n\u001B[1;32m     46\u001B[0m     \u001B[38;5;241m1\u001B[39m\u001B[38;5;241m+\u001B[39m(\u001B[38;5;241m5.2788\u001B[39m\u001B[38;5;241m*\u001B[39m\u001B[38;5;241m10\u001B[39m\u001B[38;5;241m*\u001B[39m\u001B[38;5;241m*\u001B[39m\u001B[38;5;241m-\u001B[39m\u001B[38;5;241m3\u001B[39m\u001B[38;5;241m+\u001B[39m\u001B[38;5;241m2.36\u001B[39m\u001B[38;5;241m*\u001B[39m\u001B[38;5;241m10\u001B[39m\u001B[38;5;241m*\u001B[39m\u001B[38;5;241m*\u001B[39m\u001B[38;5;241m-\u001B[39m\u001B[38;5;241m5\u001B[39m\u001B[38;5;241m*\u001B[39mx)\n\u001B[1;32m     47\u001B[0m     \u001B[38;5;241m*\u001B[39mx)\u001B[38;5;241m+\u001B[39m\u001B[38;5;241m1.092\u001B[39m\u001B[38;5;241m*\u001B[39m\u001B[38;5;241m10\u001B[39m\u001B[38;5;241m*\u001B[39m\u001B[38;5;241m*\u001B[39m\u001B[38;5;241m-\u001B[39m\u001B[38;5;241m6\u001B[39m\u001B[38;5;241m*\u001B[39mdf[\u001B[38;5;124m'\u001B[39m\u001B[38;5;124mSeaPressure\u001B[39m\u001B[38;5;124m'\u001B[39m] \u001B[38;5;66;03m# acceleration due to gravity (m/s2)\u001B[39;00m\n\u001B[1;32m     48\u001B[0m df[\u001B[38;5;124m'\u001B[39m\u001B[38;5;124mDepth\u001B[39m\u001B[38;5;124m'\u001B[39m] \u001B[38;5;241m=\u001B[39m pd\u001B[38;5;241m.\u001B[39mSeries(np\u001B[38;5;241m.\u001B[39mzeros(df\u001B[38;5;241m.\u001B[39mshape[\u001B[38;5;241m0\u001B[39m] \u001B[38;5;241m+\u001B[39m \u001B[38;5;241m1\u001B[39m))\n\u001B[1;32m     49\u001B[0m df[\u001B[38;5;124m'\u001B[39m\u001B[38;5;124mDepth\u001B[39m\u001B[38;5;124m'\u001B[39m] \u001B[38;5;241m=\u001B[39m ((((\n\u001B[1;32m     50\u001B[0m     \u001B[38;5;241m-\u001B[39m\u001B[38;5;241m1.82\u001B[39m\u001B[38;5;241m*\u001B[39m\u001B[38;5;241m10\u001B[39m\u001B[38;5;241m*\u001B[39m\u001B[38;5;241m*\u001B[39m\u001B[38;5;241m-\u001B[39m\u001B[38;5;241m15\u001B[39m\u001B[38;5;241m*\u001B[39mdf[\u001B[38;5;124m'\u001B[39m\u001B[38;5;124mSeaPressure\u001B[39m\u001B[38;5;124m'\u001B[39m]\u001B[38;5;241m+\u001B[39m\u001B[38;5;241m2.279\u001B[39m\u001B[38;5;241m*\u001B[39m\u001B[38;5;241m10\u001B[39m\u001B[38;5;241m*\u001B[39m\u001B[38;5;241m*\u001B[39m\u001B[38;5;241m-\u001B[39m\u001B[38;5;241m10\u001B[39m)\n\u001B[1;32m     51\u001B[0m     \u001B[38;5;241m*\u001B[39mdf[\u001B[38;5;124m'\u001B[39m\u001B[38;5;124mSeaPressure\u001B[39m\u001B[38;5;124m'\u001B[39m]\u001B[38;5;241m-\u001B[39m\u001B[38;5;241m2.2512\u001B[39m\u001B[38;5;241m*\u001B[39m\u001B[38;5;241m10\u001B[39m\u001B[38;5;241m*\u001B[39m\u001B[38;5;241m*\u001B[39m\u001B[38;5;241m-\u001B[39m\u001B[38;5;241m5\u001B[39m)\n\u001B[0;32m---> 52\u001B[0m     \u001B[38;5;241m*\u001B[39mdf[\u001B[38;5;124m'\u001B[39m\u001B[38;5;124mSeaPressure\u001B[39m\u001B[38;5;124m'\u001B[39m]\u001B[38;5;241m+\u001B[39m\u001B[38;5;241;43m9.72659\u001B[39;49m)\n\u001B[1;32m     53\u001B[0m     \u001B[38;5;241m*\u001B[39mdf[\u001B[38;5;124m'\u001B[39m\u001B[38;5;124mSeaPressure\u001B[39m\u001B[38;5;124m'\u001B[39m])\u001B[38;5;241m/\u001B[39mg \u001B[38;5;66;03m# (m)\u001B[39;00m\n\u001B[1;32m     55\u001B[0m \u001B[38;5;66;03m# REMOVE THE SLOWLY-VARYING COMPONENT OF WATER DEPTH\u001B[39;00m\n\u001B[1;32m     56\u001B[0m \u001B[38;5;66;03m# (effect of e.g. sea level rise, tides and storm surges)\u001B[39;00m\n\u001B[1;32m     57\u001B[0m \u001B[38;5;66;03m# Subtract a fitted 2nd order polynomial trend from each burst\u001B[39;00m\n\u001B[1;32m     58\u001B[0m time \u001B[38;5;241m=\u001B[39m \u001B[38;5;28mrange\u001B[39m(L) \u001B[38;5;66;03m# time vector [0:1:1023]\u001B[39;00m\n",
      "File \u001B[0;32m~/.cache/JetBrains/RemoteDev/dist/6be7d8bc400d7_pycharm-professional-243.23654.74/plugins/python-ce/helpers/pydev/_pydevd_bundle/pydevd_frame.py:888\u001B[0m, in \u001B[0;36mPyDBFrame.trace_dispatch\u001B[0;34m(self, frame, event, arg)\u001B[0m\n\u001B[1;32m    885\u001B[0m             stop \u001B[38;5;241m=\u001B[39m \u001B[38;5;28;01mFalse\u001B[39;00m\n\u001B[1;32m    887\u001B[0m \u001B[38;5;28;01mif\u001B[39;00m plugin_stop:\n\u001B[0;32m--> 888\u001B[0m     stopped_on_plugin \u001B[38;5;241m=\u001B[39m \u001B[43mplugin_manager\u001B[49m\u001B[38;5;241;43m.\u001B[39;49m\u001B[43mstop\u001B[49m\u001B[43m(\u001B[49m\u001B[43mmain_debugger\u001B[49m\u001B[43m,\u001B[49m\u001B[43m \u001B[49m\u001B[43mframe\u001B[49m\u001B[43m,\u001B[49m\u001B[43m \u001B[49m\u001B[43mevent\u001B[49m\u001B[43m,\u001B[49m\u001B[43m \u001B[49m\u001B[38;5;28;43mself\u001B[39;49m\u001B[38;5;241;43m.\u001B[39;49m\u001B[43m_args\u001B[49m\u001B[43m,\u001B[49m\u001B[43m \u001B[49m\u001B[43mstop_info\u001B[49m\u001B[43m,\u001B[49m\u001B[43m \u001B[49m\u001B[43marg\u001B[49m\u001B[43m,\u001B[49m\u001B[43m \u001B[49m\u001B[43mstep_cmd\u001B[49m\u001B[43m)\u001B[49m\n\u001B[1;32m    889\u001B[0m \u001B[38;5;28;01melif\u001B[39;00m stop:\n\u001B[1;32m    890\u001B[0m     \u001B[38;5;28;01mif\u001B[39;00m is_line:\n",
      "File \u001B[0;32m~/.cache/JetBrains/RemoteDev/dist/6be7d8bc400d7_pycharm-professional-243.23654.74/plugins/python/helpers-pro/jupyter_debug/pydev_jupyter_plugin.py:169\u001B[0m, in \u001B[0;36mstop\u001B[0;34m(plugin, pydb, frame, event, args, stop_info, arg, step_cmd)\u001B[0m\n\u001B[1;32m    167\u001B[0m     frame \u001B[38;5;241m=\u001B[39m suspend_jupyter(main_debugger, thread, frame, step_cmd)\n\u001B[1;32m    168\u001B[0m     \u001B[38;5;28;01mif\u001B[39;00m frame:\n\u001B[0;32m--> 169\u001B[0m         \u001B[43mmain_debugger\u001B[49m\u001B[38;5;241;43m.\u001B[39;49m\u001B[43mdo_wait_suspend\u001B[49m\u001B[43m(\u001B[49m\u001B[43mthread\u001B[49m\u001B[43m,\u001B[49m\u001B[43m \u001B[49m\u001B[43mframe\u001B[49m\u001B[43m,\u001B[49m\u001B[43m \u001B[49m\u001B[43mevent\u001B[49m\u001B[43m,\u001B[49m\u001B[43m \u001B[49m\u001B[43marg\u001B[49m\u001B[43m)\u001B[49m\n\u001B[1;32m    170\u001B[0m         \u001B[38;5;28;01mreturn\u001B[39;00m \u001B[38;5;28;01mTrue\u001B[39;00m\n\u001B[1;32m    171\u001B[0m \u001B[38;5;28;01mreturn\u001B[39;00m \u001B[38;5;28;01mFalse\u001B[39;00m\n",
      "File \u001B[0;32m~/.cache/JetBrains/RemoteDev/dist/6be7d8bc400d7_pycharm-professional-243.23654.74/plugins/python-ce/helpers/pydev/pydevd.py:1220\u001B[0m, in \u001B[0;36mPyDB.do_wait_suspend\u001B[0;34m(self, thread, frame, event, arg, send_suspend_message, is_unhandled_exception)\u001B[0m\n\u001B[1;32m   1217\u001B[0m         from_this_thread\u001B[38;5;241m.\u001B[39mappend(frame_id)\n\u001B[1;32m   1219\u001B[0m \u001B[38;5;28;01mwith\u001B[39;00m \u001B[38;5;28mself\u001B[39m\u001B[38;5;241m.\u001B[39m_threads_suspended_single_notification\u001B[38;5;241m.\u001B[39mnotify_thread_suspended(thread_id, stop_reason):\n\u001B[0;32m-> 1220\u001B[0m     \u001B[38;5;28;43mself\u001B[39;49m\u001B[38;5;241;43m.\u001B[39;49m\u001B[43m_do_wait_suspend\u001B[49m\u001B[43m(\u001B[49m\u001B[43mthread\u001B[49m\u001B[43m,\u001B[49m\u001B[43m \u001B[49m\u001B[43mframe\u001B[49m\u001B[43m,\u001B[49m\u001B[43m \u001B[49m\u001B[43mevent\u001B[49m\u001B[43m,\u001B[49m\u001B[43m \u001B[49m\u001B[43marg\u001B[49m\u001B[43m,\u001B[49m\u001B[43m \u001B[49m\u001B[43msuspend_type\u001B[49m\u001B[43m,\u001B[49m\u001B[43m \u001B[49m\u001B[43mfrom_this_thread\u001B[49m\u001B[43m)\u001B[49m\n",
      "File \u001B[0;32m~/.cache/JetBrains/RemoteDev/dist/6be7d8bc400d7_pycharm-professional-243.23654.74/plugins/python-ce/helpers/pydev/pydevd.py:1235\u001B[0m, in \u001B[0;36mPyDB._do_wait_suspend\u001B[0;34m(self, thread, frame, event, arg, suspend_type, from_this_thread)\u001B[0m\n\u001B[1;32m   1232\u001B[0m             \u001B[38;5;28mself\u001B[39m\u001B[38;5;241m.\u001B[39m_call_mpl_hook()\n\u001B[1;32m   1234\u001B[0m         \u001B[38;5;28mself\u001B[39m\u001B[38;5;241m.\u001B[39mprocess_internal_commands()\n\u001B[0;32m-> 1235\u001B[0m         \u001B[43mtime\u001B[49m\u001B[38;5;241;43m.\u001B[39;49m\u001B[43msleep\u001B[49m\u001B[43m(\u001B[49m\u001B[38;5;241;43m0.01\u001B[39;49m\u001B[43m)\u001B[49m\n\u001B[1;32m   1237\u001B[0m \u001B[38;5;28mself\u001B[39m\u001B[38;5;241m.\u001B[39mcancel_async_evaluation(get_current_thread_id(thread), \u001B[38;5;28mstr\u001B[39m(\u001B[38;5;28mid\u001B[39m(frame)))\n\u001B[1;32m   1239\u001B[0m \u001B[38;5;66;03m# process any stepping instructions\u001B[39;00m\n",
      "\u001B[0;31mKeyboardInterrupt\u001B[0m: "
     ]
    }
   ],
   "execution_count": 15
  },
  {
   "cell_type": "code",
   "id": "be62e330",
   "metadata": {
    "ExecuteTime": {
     "end_time": "2025-01-29T11:37:36.414359Z",
     "start_time": "2025-01-29T11:37:36.317102Z"
    }
   },
   "source": [
    "# Calculo del vector de frecuencias\n",
    "fm = 1 # Frecuencia de muestreo de un Hz\n",
    "N = 1024 # número de muestras\n",
    "\n",
    "freq = np.linspace(1/1024, fm/2, N//2+1)\n",
    "freq = freq.reshape(-1, 3).mean(axis=1)\n",
    "\n",
    "np.save('../data/freq.npy', freq)"
   ],
   "outputs": [
    {
     "ename": "FileNotFoundError",
     "evalue": "[Errno 2] No such file or directory: '../data/freq.npy'",
     "output_type": "error",
     "traceback": [
      "\u001B[0;31m---------------------------------------------------------------------------\u001B[0m",
      "\u001B[0;31mFileNotFoundError\u001B[0m                         Traceback (most recent call last)",
      "Cell \u001B[0;32mIn[4], line 8\u001B[0m\n\u001B[1;32m      5\u001B[0m freq \u001B[38;5;241m=\u001B[39m np\u001B[38;5;241m.\u001B[39mlinspace(\u001B[38;5;241m1\u001B[39m\u001B[38;5;241m/\u001B[39m\u001B[38;5;241m1024\u001B[39m, fm\u001B[38;5;241m/\u001B[39m\u001B[38;5;241m2\u001B[39m, N\u001B[38;5;241m/\u001B[39m\u001B[38;5;241m/\u001B[39m\u001B[38;5;241m2\u001B[39m\u001B[38;5;241m+\u001B[39m\u001B[38;5;241m1\u001B[39m)\n\u001B[1;32m      6\u001B[0m freq \u001B[38;5;241m=\u001B[39m freq\u001B[38;5;241m.\u001B[39mreshape(\u001B[38;5;241m-\u001B[39m\u001B[38;5;241m1\u001B[39m, \u001B[38;5;241m3\u001B[39m)\u001B[38;5;241m.\u001B[39mmean(axis\u001B[38;5;241m=\u001B[39m\u001B[38;5;241m1\u001B[39m)\n\u001B[0;32m----> 8\u001B[0m \u001B[43mnp\u001B[49m\u001B[38;5;241;43m.\u001B[39;49m\u001B[43msave\u001B[49m\u001B[43m(\u001B[49m\u001B[38;5;124;43m'\u001B[39;49m\u001B[38;5;124;43m../data/freq.npy\u001B[39;49m\u001B[38;5;124;43m'\u001B[39;49m\u001B[43m,\u001B[49m\u001B[43m \u001B[49m\u001B[43mfreq\u001B[49m\u001B[43m)\u001B[49m\n",
      "File \u001B[0;32m~/Documents/OceanWave/.venv/lib/python3.12/site-packages/numpy/lib/npyio.py:542\u001B[0m, in \u001B[0;36msave\u001B[0;34m(file, arr, allow_pickle, fix_imports)\u001B[0m\n\u001B[1;32m    540\u001B[0m     \u001B[38;5;28;01mif\u001B[39;00m \u001B[38;5;129;01mnot\u001B[39;00m file\u001B[38;5;241m.\u001B[39mendswith(\u001B[38;5;124m'\u001B[39m\u001B[38;5;124m.npy\u001B[39m\u001B[38;5;124m'\u001B[39m):\n\u001B[1;32m    541\u001B[0m         file \u001B[38;5;241m=\u001B[39m file \u001B[38;5;241m+\u001B[39m \u001B[38;5;124m'\u001B[39m\u001B[38;5;124m.npy\u001B[39m\u001B[38;5;124m'\u001B[39m\n\u001B[0;32m--> 542\u001B[0m     file_ctx \u001B[38;5;241m=\u001B[39m \u001B[38;5;28;43mopen\u001B[39;49m\u001B[43m(\u001B[49m\u001B[43mfile\u001B[49m\u001B[43m,\u001B[49m\u001B[43m \u001B[49m\u001B[38;5;124;43m\"\u001B[39;49m\u001B[38;5;124;43mwb\u001B[39;49m\u001B[38;5;124;43m\"\u001B[39;49m\u001B[43m)\u001B[49m\n\u001B[1;32m    544\u001B[0m \u001B[38;5;28;01mwith\u001B[39;00m file_ctx \u001B[38;5;28;01mas\u001B[39;00m fid:\n\u001B[1;32m    545\u001B[0m     arr \u001B[38;5;241m=\u001B[39m np\u001B[38;5;241m.\u001B[39masanyarray(arr)\n",
      "\u001B[0;31mFileNotFoundError\u001B[0m: [Errno 2] No such file or directory: '../data/freq.npy'"
     ]
    }
   ],
   "execution_count": 4
  },
  {
   "cell_type": "code",
   "execution_count": 8,
   "id": "e537cfd4",
   "metadata": {},
   "outputs": [],
   "source": [
    "data = pd.read_csv(\"../data/RawData/VES2_spectra.txt\").drop(columns=['512'])\n",
    "\n",
    "data = data.T.groupby(np.arange(len(data.columns)) // 3).mean()\n",
    "data = data.rolling(window=2).mean()\n",
    "data = data.fillna(0)\n",
    "data = data.rolling(window=2).mean()\n",
    "data = data.fillna(0)\n",
    "data = data.T\n",
    "data = data.values[:,:,np.newaxis]\n",
    "\n",
    "np.save('../data/VES2.npy', data)"
   ]
  },
  {
   "cell_type": "code",
   "execution_count": null,
   "id": "33bfc81d",
   "metadata": {},
   "outputs": [],
   "source": []
  }
 ],
 "metadata": {
  "kernelspec": {
   "display_name": "Python 3 (ipykernel)",
   "language": "python",
   "name": "python3"
  },
  "language_info": {
   "codemirror_mode": {
    "name": "ipython",
    "version": 3
   },
   "file_extension": ".py",
   "mimetype": "text/x-python",
   "name": "python",
   "nbconvert_exporter": "python",
   "pygments_lexer": "ipython3",
   "version": "3.11.0"
  }
 },
 "nbformat": 4,
 "nbformat_minor": 5
}
